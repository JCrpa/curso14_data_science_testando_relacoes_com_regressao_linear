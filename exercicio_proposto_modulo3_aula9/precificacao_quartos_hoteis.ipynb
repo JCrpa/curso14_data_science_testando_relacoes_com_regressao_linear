{
 "cells": [
  {
   "cell_type": "markdown",
   "metadata": {
    "id": "3RgyMaan04TD"
   },
   "source": [
    "### Módulo 3 - aula 9 - Mão na massa: análise e seleção de modelos de regressão linear\n",
    "\n",
    "Como pessoa Cientista de Dados, você está encarregada pela análise do problema de precificação de quartos de hotéis, fazendo uso do conjunto de dados fornecidos.\n",
    "\n",
    "Nesta atividade, sua tarefa envolve conduzir as seguintes etapas:\n",
    "\n",
    "- análise inicial com o PairPlot da Seaborn;\n",
    "- construir modelos de regressão linear; e\n",
    "- realizar a comparação desses modelos.\n"
   ]
  },
  {
   "cell_type": "code",
   "execution_count": 2,
   "metadata": {
    "id": "UN77EfQ2d36Y"
   },
   "outputs": [],
   "source": [
    "import seaborn as sns\n",
    "import pandas as pd"
   ]
  },
  {
   "cell_type": "code",
   "execution_count": 4,
   "metadata": {},
   "outputs": [],
   "source": [
    "dados = pd.read_csv('C:\\\\Users\\\\joaoc\\\\OneDrive\\\\Documentos\\\\Aprendizado_ONE\\\\formacao-tech-foundation\\\\curso14_data_science_testando_relacoes_com_regressao_linear\\\\exercicio_proposto_modulo3_aula9\\\\hoteis.csv')"
   ]
  },
  {
   "cell_type": "code",
   "execution_count": 7,
   "metadata": {},
   "outputs": [
    {
     "name": "stdout",
     "output_type": "stream",
     "text": [
      "<class 'pandas.core.frame.DataFrame'>\n",
      "RangeIndex: 1000 entries, 0 to 999\n",
      "Data columns (total 4 columns):\n",
      " #   Column              Non-Null Count  Dtype  \n",
      "---  ------              --------------  -----  \n",
      " 0   Estrelas            1000 non-null   int64  \n",
      " 1   ProximidadeTurismo  1000 non-null   float64\n",
      " 2   Capacidade          1000 non-null   int64  \n",
      " 3   Preco               1000 non-null   float64\n",
      "dtypes: float64(2), int64(2)\n",
      "memory usage: 31.4 KB\n"
     ]
    }
   ],
   "source": [
    "dados.info()"
   ]
  },
  {
   "cell_type": "code",
   "execution_count": 6,
   "metadata": {},
   "outputs": [
    {
     "data": {
      "application/vnd.microsoft.datawrangler.viewer.v0+json": {
       "columns": [
        {
         "name": "index",
         "rawType": "int64",
         "type": "integer"
        },
        {
         "name": "Estrelas",
         "rawType": "int64",
         "type": "integer"
        },
        {
         "name": "ProximidadeTurismo",
         "rawType": "float64",
         "type": "float"
        },
        {
         "name": "Capacidade",
         "rawType": "int64",
         "type": "integer"
        },
        {
         "name": "Preco",
         "rawType": "float64",
         "type": "float"
        }
       ],
       "ref": "3b94bc6a-5466-4535-a057-542694538cc4",
       "rows": [
        [
         "0",
         "5",
         "9.301565025243212",
         "3",
         "506.27545244292"
        ],
        [
         "1",
         "1",
         "1.7858909208732916",
         "1",
         "246.3634575712061"
        ],
        [
         "2",
         "4",
         "15.50429345083481",
         "3",
         "325.8735503361168"
        ],
        [
         "3",
         "4",
         "4.173188210318354",
         "3",
         "521.3432839941105"
        ],
        [
         "4",
         "4",
         "9.443684908242938",
         "1",
         "252.587086799813"
        ],
        [
         "5",
         "2",
         "2.381031478323121",
         "1",
         "308.3371033899012"
        ],
        [
         "6",
         "4",
         "14.059629162678991",
         "3",
         "393.9866944785895"
        ],
        [
         "7",
         "3",
         "5.900576458695397",
         "1",
         "358.44572821452664"
        ],
        [
         "8",
         "5",
         "1.1048940506592784",
         "1",
         "526.4607466192664"
        ],
        [
         "9",
         "1",
         "16.606998118692633",
         "4",
         "188.36891014879137"
        ],
        [
         "10",
         "1",
         "1.1514787314009216",
         "2",
         "419.1519891446485"
        ],
        [
         "11",
         "5",
         "3.791475628799228",
         "3",
         "648.615320754412"
        ],
        [
         "12",
         "3",
         "17.423561978092305",
         "3",
         "255.2611206187761"
        ],
        [
         "13",
         "2",
         "13.032427541123155",
         "4",
         "329.1704273765824"
        ],
        [
         "14",
         "1",
         "6.051200840821666",
         "3",
         "404.4189619519237"
        ],
        [
         "15",
         "2",
         "8.95555985551324",
         "3",
         "382.0297316235682"
        ],
        [
         "16",
         "2",
         "1.3190863977996703",
         "3",
         "357.77544246405023"
        ],
        [
         "17",
         "1",
         "4.047618120404975",
         "1",
         "281.2702392624526"
        ],
        [
         "18",
         "2",
         "2.238435633129107",
         "3",
         "399.5441537943425"
        ],
        [
         "19",
         "5",
         "3.2962298212773806",
         "3",
         "657.2534824040215"
        ],
        [
         "20",
         "4",
         "12.85984007080293",
         "2",
         "295.0995786626996"
        ],
        [
         "21",
         "1",
         "15.06998398214272",
         "4",
         "328.2809043946055"
        ],
        [
         "22",
         "4",
         "6.764607323616232",
         "4",
         "579.7997929673787"
        ],
        [
         "23",
         "1",
         "3.8200895557782015",
         "1",
         "209.26749588163037"
        ],
        [
         "24",
         "3",
         "2.2425893425164034",
         "3",
         "537.7805299205298"
        ],
        [
         "25",
         "4",
         "3.0224973045507",
         "3",
         "632.5403686556747"
        ],
        [
         "26",
         "1",
         "3.751471166612839",
         "3",
         "416.2829075608226"
        ],
        [
         "27",
         "2",
         "12.261961917830192",
         "3",
         "289.0440036497773"
        ],
        [
         "28",
         "4",
         "1.8333919925760125",
         "1",
         "480.5098359238966"
        ],
        [
         "29",
         "4",
         "16.709430327888573",
         "2",
         "236.3293617737192"
        ],
        [
         "30",
         "4",
         "0.5613302044875711",
         "4",
         "708.477025618587"
        ],
        [
         "31",
         "1",
         "0.0138504273509572",
         "2",
         "478.02599487314745"
        ],
        [
         "32",
         "2",
         "6.872990371566635",
         "3",
         "480.2958941716207"
        ],
        [
         "33",
         "2",
         "1.1747454641811148",
         "2",
         "467.1714020328128"
        ],
        [
         "34",
         "2",
         "4.661664260340308",
         "2",
         "352.4687572189352"
        ],
        [
         "35",
         "1",
         "3.702424407043429",
         "4",
         "570.7970615351728"
        ],
        [
         "36",
         "3",
         "4.5380404105200105",
         "2",
         "478.3951696561852"
        ],
        [
         "37",
         "5",
         "4.032645401632468",
         "2",
         "565.2919502437653"
        ],
        [
         "38",
         "4",
         "9.180047698190457",
         "2",
         "315.59521699889785"
        ],
        [
         "39",
         "4",
         "2.5249662707687244",
         "1",
         "436.5342697500236"
        ],
        [
         "40",
         "3",
         "8.203217972614217",
         "1",
         "228.752031812672"
        ],
        [
         "41",
         "5",
         "13.599485416794844",
         "1",
         "250.0596790863852"
        ],
        [
         "42",
         "3",
         "0.903820072769468",
         "2",
         "503.9264450094466"
        ],
        [
         "43",
         "1",
         "13.675972398067136",
         "1",
         "61.488522443188494"
        ],
        [
         "44",
         "1",
         "10.34409886481518",
         "2",
         "179.35926741223398"
        ],
        [
         "45",
         "5",
         "9.96212640371066",
         "2",
         "474.4051593717823"
        ],
        [
         "46",
         "1",
         "12.17938511593151",
         "1",
         "1.6057343397926471"
        ],
        [
         "47",
         "5",
         "3.0496363785442044",
         "3",
         "665.5164489855966"
        ],
        [
         "48",
         "2",
         "10.289354925948542",
         "2",
         "161.33873790130224"
        ],
        [
         "49",
         "5",
         "0.722870075600049",
         "2",
         "614.6725053241722"
        ]
       ],
       "shape": {
        "columns": 4,
        "rows": 1000
       }
      },
      "text/html": [
       "<div>\n",
       "<style scoped>\n",
       "    .dataframe tbody tr th:only-of-type {\n",
       "        vertical-align: middle;\n",
       "    }\n",
       "\n",
       "    .dataframe tbody tr th {\n",
       "        vertical-align: top;\n",
       "    }\n",
       "\n",
       "    .dataframe thead th {\n",
       "        text-align: right;\n",
       "    }\n",
       "</style>\n",
       "<table border=\"1\" class=\"dataframe\">\n",
       "  <thead>\n",
       "    <tr style=\"text-align: right;\">\n",
       "      <th></th>\n",
       "      <th>Estrelas</th>\n",
       "      <th>ProximidadeTurismo</th>\n",
       "      <th>Capacidade</th>\n",
       "      <th>Preco</th>\n",
       "    </tr>\n",
       "  </thead>\n",
       "  <tbody>\n",
       "    <tr>\n",
       "      <th>0</th>\n",
       "      <td>5</td>\n",
       "      <td>9.301565</td>\n",
       "      <td>3</td>\n",
       "      <td>506.275452</td>\n",
       "    </tr>\n",
       "    <tr>\n",
       "      <th>1</th>\n",
       "      <td>1</td>\n",
       "      <td>1.785891</td>\n",
       "      <td>1</td>\n",
       "      <td>246.363458</td>\n",
       "    </tr>\n",
       "    <tr>\n",
       "      <th>2</th>\n",
       "      <td>4</td>\n",
       "      <td>15.504293</td>\n",
       "      <td>3</td>\n",
       "      <td>325.873550</td>\n",
       "    </tr>\n",
       "    <tr>\n",
       "      <th>3</th>\n",
       "      <td>4</td>\n",
       "      <td>4.173188</td>\n",
       "      <td>3</td>\n",
       "      <td>521.343284</td>\n",
       "    </tr>\n",
       "    <tr>\n",
       "      <th>4</th>\n",
       "      <td>4</td>\n",
       "      <td>9.443685</td>\n",
       "      <td>1</td>\n",
       "      <td>252.587087</td>\n",
       "    </tr>\n",
       "    <tr>\n",
       "      <th>...</th>\n",
       "      <td>...</td>\n",
       "      <td>...</td>\n",
       "      <td>...</td>\n",
       "      <td>...</td>\n",
       "    </tr>\n",
       "    <tr>\n",
       "      <th>995</th>\n",
       "      <td>5</td>\n",
       "      <td>11.277836</td>\n",
       "      <td>2</td>\n",
       "      <td>374.823064</td>\n",
       "    </tr>\n",
       "    <tr>\n",
       "      <th>996</th>\n",
       "      <td>4</td>\n",
       "      <td>8.811311</td>\n",
       "      <td>2</td>\n",
       "      <td>323.147993</td>\n",
       "    </tr>\n",
       "    <tr>\n",
       "      <th>997</th>\n",
       "      <td>2</td>\n",
       "      <td>10.329892</td>\n",
       "      <td>4</td>\n",
       "      <td>409.372235</td>\n",
       "    </tr>\n",
       "    <tr>\n",
       "      <th>998</th>\n",
       "      <td>2</td>\n",
       "      <td>9.239120</td>\n",
       "      <td>3</td>\n",
       "      <td>434.881278</td>\n",
       "    </tr>\n",
       "    <tr>\n",
       "      <th>999</th>\n",
       "      <td>4</td>\n",
       "      <td>14.121517</td>\n",
       "      <td>4</td>\n",
       "      <td>466.005780</td>\n",
       "    </tr>\n",
       "  </tbody>\n",
       "</table>\n",
       "<p>1000 rows × 4 columns</p>\n",
       "</div>"
      ],
      "text/plain": [
       "     Estrelas  ProximidadeTurismo  Capacidade       Preco\n",
       "0           5            9.301565           3  506.275452\n",
       "1           1            1.785891           1  246.363458\n",
       "2           4           15.504293           3  325.873550\n",
       "3           4            4.173188           3  521.343284\n",
       "4           4            9.443685           1  252.587087\n",
       "..        ...                 ...         ...         ...\n",
       "995         5           11.277836           2  374.823064\n",
       "996         4            8.811311           2  323.147993\n",
       "997         2           10.329892           4  409.372235\n",
       "998         2            9.239120           3  434.881278\n",
       "999         4           14.121517           4  466.005780\n",
       "\n",
       "[1000 rows x 4 columns]"
      ]
     },
     "execution_count": 6,
     "metadata": {},
     "output_type": "execute_result"
    }
   ],
   "source": [
    "dados"
   ]
  },
  {
   "cell_type": "code",
   "execution_count": 5,
   "metadata": {},
   "outputs": [
    {
     "data": {
      "text/plain": [
       "<seaborn.axisgrid.PairGrid at 0x1c49c9ccc20>"
      ]
     },
     "execution_count": 5,
     "metadata": {},
     "output_type": "execute_result"
    },
    {
     "data": {
      "image/png": "[encoded data removed]",
      "text/plain": [
       "<Figure size 1000x1000 with 20 Axes>"
      ]
     },
     "metadata": {},
     "output_type": "display_data"
    }
   ],
   "source": [
    "sns.pairplot(dados)"
   ]
  },
  {
   "cell_type": "code",
   "execution_count": 10,
   "metadata": {},
   "outputs": [],
   "source": [
    "# import train_test_split\n",
    "from sklearn.model_selection import train_test_split"
   ]
  },
  {
   "cell_type": "code",
   "execution_count": null,
   "metadata": {},
   "outputs": [],
   "source": [
    "# Definindo y e x\n",
    "y = dados['Preco']\n",
    "x = dados.drop(columns=['Preco'])"
   ]
  },
  {
   "cell_type": "code",
   "execution_count": 15,
   "metadata": {},
   "outputs": [],
   "source": [
    "#Aplicando o split do y e X\n",
    "x_train, x_test, y_train, y_test = train_test_split(x, y, test_size=0.3, random_state=230)"
   ]
  },
  {
   "cell_type": "code",
   "execution_count": 16,
   "metadata": {},
   "outputs": [],
   "source": [
    "#Dados de treino para usar a fórmula\n",
    "df_train = pd.DataFrame(data = x_train)\n",
    "df_train['Preco'] = y_train"
   ]
  },
  {
   "cell_type": "code",
   "execution_count": 17,
   "metadata": {},
   "outputs": [],
   "source": [
    "# import ols\n",
    "from statsmodels.formula.api import ols"
   ]
  },
  {
   "cell_type": "code",
   "execution_count": 18,
   "metadata": {},
   "outputs": [],
   "source": [
    "# ajustando o primeiro modelo\n",
    "modelo_0 = ols('Preco ~ ProximidadeTurismo', data=df_train).fit()"
   ]
  },
  {
   "cell_type": "code",
   "execution_count": 19,
   "metadata": {},
   "outputs": [
    {
     "data": {
      "application/vnd.microsoft.datawrangler.viewer.v0+json": {
       "columns": [
        {
         "name": "index",
         "rawType": "object",
         "type": "string"
        },
        {
         "name": "0",
         "rawType": "float64",
         "type": "float"
        }
       ],
       "ref": "8c241d79-1d6d-460e-bcf0-c1259bfe9b97",
       "rows": [
        [
         "Intercept",
         "556.772721651348"
        ],
        [
         "ProximidadeTurismo",
         "-20.53582961856364"
        ]
       ],
       "shape": {
        "columns": 1,
        "rows": 2
       }
      },
      "text/plain": [
       "Intercept             556.772722\n",
       "ProximidadeTurismo    -20.535830\n",
       "dtype: float64"
      ]
     },
     "execution_count": 19,
     "metadata": {},
     "output_type": "execute_result"
    }
   ],
   "source": [
    "# visualizando os parametros\n",
    "modelo_0.params"
   ]
  },
  {
   "cell_type": "code",
   "execution_count": 20,
   "metadata": {},
   "outputs": [
    {
     "name": "stdout",
     "output_type": "stream",
     "text": [
      "                            OLS Regression Results                            \n",
      "==============================================================================\n",
      "Dep. Variable:                  Preco   R-squared:                       0.486\n",
      "Model:                            OLS   Adj. R-squared:                  0.485\n",
      "Method:                 Least Squares   F-statistic:                     660.6\n",
      "Date:                qua, 16 jul 2025   Prob (F-statistic):          4.97e-103\n",
      "Time:                        21:47:34   Log-Likelihood:                -4358.9\n",
      "No. Observations:                 700   AIC:                             8722.\n",
      "Df Residuals:                     698   BIC:                             8731.\n",
      "Df Model:                           1                                         \n",
      "Covariance Type:            nonrobust                                         \n",
      "======================================================================================\n",
      "                         coef    std err          t      P>|t|      [0.025      0.975]\n",
      "--------------------------------------------------------------------------------------\n",
      "Intercept            556.7727      7.608     73.183      0.000     541.836     571.710\n",
      "ProximidadeTurismo   -20.5358      0.799    -25.701      0.000     -22.105     -18.967\n",
      "==============================================================================\n",
      "Omnibus:                       17.434   Durbin-Watson:                   1.949\n",
      "Prob(Omnibus):                  0.000   Jarque-Bera (JB):                9.564\n",
      "Skew:                          -0.071   Prob(JB):                      0.00838\n",
      "Kurtosis:                       2.445   Cond. No.                         15.7\n",
      "==============================================================================\n",
      "\n",
      "Notes:\n",
      "[1] Standard Errors assume that the covariance matrix of the errors is correctly specified.\n"
     ]
    }
   ],
   "source": [
    "# o resumo do nosso modelo\n",
    "print(modelo_0.summary())"
   ]
  },
  {
   "cell_type": "code",
   "execution_count": 21,
   "metadata": {},
   "outputs": [],
   "source": [
    "# importando a api do statsmodels\n",
    "import statsmodels.api as sm"
   ]
  },
  {
   "cell_type": "code",
   "execution_count": 22,
   "metadata": {},
   "outputs": [],
   "source": [
    "# adicionando o constante\n",
    "x_train = sm.add_constant(x_train)"
   ]
  },
  {
   "cell_type": "code",
   "execution_count": 23,
   "metadata": {},
   "outputs": [
    {
     "data": {
      "application/vnd.microsoft.datawrangler.viewer.v0+json": {
       "columns": [
        {
         "name": "index",
         "rawType": "int64",
         "type": "integer"
        },
        {
         "name": "const",
         "rawType": "float64",
         "type": "float"
        },
        {
         "name": "Estrelas",
         "rawType": "int64",
         "type": "integer"
        },
        {
         "name": "ProximidadeTurismo",
         "rawType": "float64",
         "type": "float"
        },
        {
         "name": "Capacidade",
         "rawType": "int64",
         "type": "integer"
        }
       ],
       "ref": "6ef08956-0e9d-4c0c-8ac4-d962b3cad5b5",
       "rows": [
        [
         "740",
         "1.0",
         "5",
         "9.724028893524975",
         "3"
        ],
        [
         "182",
         "1.0",
         "4",
         "14.893559620744805",
         "4"
        ],
        [
         "39",
         "1.0",
         "4",
         "2.5249662707687244",
         "1"
        ],
        [
         "29",
         "1.0",
         "4",
         "16.709430327888573",
         "2"
        ],
        [
         "221",
         "1.0",
         "2",
         "0.2295975560795144",
         "1"
        ]
       ],
       "shape": {
        "columns": 4,
        "rows": 5
       }
      },
      "text/html": [
       "<div>\n",
       "<style scoped>\n",
       "    .dataframe tbody tr th:only-of-type {\n",
       "        vertical-align: middle;\n",
       "    }\n",
       "\n",
       "    .dataframe tbody tr th {\n",
       "        vertical-align: top;\n",
       "    }\n",
       "\n",
       "    .dataframe thead th {\n",
       "        text-align: right;\n",
       "    }\n",
       "</style>\n",
       "<table border=\"1\" class=\"dataframe\">\n",
       "  <thead>\n",
       "    <tr style=\"text-align: right;\">\n",
       "      <th></th>\n",
       "      <th>const</th>\n",
       "      <th>Estrelas</th>\n",
       "      <th>ProximidadeTurismo</th>\n",
       "      <th>Capacidade</th>\n",
       "    </tr>\n",
       "  </thead>\n",
       "  <tbody>\n",
       "    <tr>\n",
       "      <th>740</th>\n",
       "      <td>1.0</td>\n",
       "      <td>5</td>\n",
       "      <td>9.724029</td>\n",
       "      <td>3</td>\n",
       "    </tr>\n",
       "    <tr>\n",
       "      <th>182</th>\n",
       "      <td>1.0</td>\n",
       "      <td>4</td>\n",
       "      <td>14.893560</td>\n",
       "      <td>4</td>\n",
       "    </tr>\n",
       "    <tr>\n",
       "      <th>39</th>\n",
       "      <td>1.0</td>\n",
       "      <td>4</td>\n",
       "      <td>2.524966</td>\n",
       "      <td>1</td>\n",
       "    </tr>\n",
       "    <tr>\n",
       "      <th>29</th>\n",
       "      <td>1.0</td>\n",
       "      <td>4</td>\n",
       "      <td>16.709430</td>\n",
       "      <td>2</td>\n",
       "    </tr>\n",
       "    <tr>\n",
       "      <th>221</th>\n",
       "      <td>1.0</td>\n",
       "      <td>2</td>\n",
       "      <td>0.229598</td>\n",
       "      <td>1</td>\n",
       "    </tr>\n",
       "  </tbody>\n",
       "</table>\n",
       "</div>"
      ],
      "text/plain": [
       "     const  Estrelas  ProximidadeTurismo  Capacidade\n",
       "740    1.0         5            9.724029           3\n",
       "182    1.0         4           14.893560           4\n",
       "39     1.0         4            2.524966           1\n",
       "29     1.0         4           16.709430           2\n",
       "221    1.0         2            0.229598           1"
      ]
     },
     "execution_count": 23,
     "metadata": {},
     "output_type": "execute_result"
    }
   ],
   "source": [
    "x_train.head()"
   ]
  },
  {
   "cell_type": "code",
   "execution_count": 24,
   "metadata": {},
   "outputs": [
    {
     "data": {
      "text/plain": [
       "Index(['const', 'Estrelas', 'ProximidadeTurismo', 'Capacidade'], dtype='object')"
      ]
     },
     "execution_count": 24,
     "metadata": {},
     "output_type": "execute_result"
    }
   ],
   "source": [
    "x_train.columns"
   ]
  },
  {
   "cell_type": "code",
   "execution_count": 25,
   "metadata": {},
   "outputs": [],
   "source": [
    "# Criando o modelo de regressão (sem fómula): saturado\n",
    "modelo_1 = sm.OLS(y_train,\n",
    "                  x_train[['const', 'Estrelas', 'ProximidadeTurismo', 'Capacidade']]).fit()"
   ]
  },
  {
   "cell_type": "code",
   "execution_count": 26,
   "metadata": {},
   "outputs": [],
   "source": [
    "# Modelo sem a ProximidadeTurismo\n",
    "modelo_2 = sm.OLS(y_train,\n",
    "                  x_train[['const', 'Estrelas', 'Capacidade']]).fit()"
   ]
  },
  {
   "cell_type": "code",
   "execution_count": 27,
   "metadata": {},
   "outputs": [],
   "source": [
    "# Modelo sem Estrelas\n",
    "modelo_3 = sm.OLS(y_train,\n",
    "                    x_train[['const', 'ProximidadeTurismo', 'Capacidade']]).fit()"
   ]
  },
  {
   "cell_type": "code",
   "execution_count": 28,
   "metadata": {},
   "outputs": [
    {
     "name": "stdout",
     "output_type": "stream",
     "text": [
      "                            OLS Regression Results                            \n",
      "==============================================================================\n",
      "Dep. Variable:                  Preco   R-squared:                       0.924\n",
      "Model:                            OLS   Adj. R-squared:                  0.924\n",
      "Method:                 Least Squares   F-statistic:                     2828.\n",
      "Date:                qua, 16 jul 2025   Prob (F-statistic):               0.00\n",
      "Time:                        21:53:09   Log-Likelihood:                -3689.2\n",
      "No. Observations:                 700   AIC:                             7386.\n",
      "Df Residuals:                     696   BIC:                             7405.\n",
      "Df Model:                           3                                         \n",
      "Covariance Type:            nonrobust                                         \n",
      "======================================================================================\n",
      "                         coef    std err          t      P>|t|      [0.025      0.975]\n",
      "--------------------------------------------------------------------------------------\n",
      "const                195.1576      6.440     30.306      0.000     182.514     207.801\n",
      "Estrelas              50.5031      1.276     39.567      0.000      47.997      53.009\n",
      "ProximidadeTurismo   -20.3566      0.307    -66.222      0.000     -20.960     -19.753\n",
      "Capacidade            81.5261      1.602     50.879      0.000      78.380      84.672\n",
      "==============================================================================\n",
      "Omnibus:                        5.308   Durbin-Watson:                   1.875\n",
      "Prob(Omnibus):                  0.070   Jarque-Bera (JB):                3.871\n",
      "Skew:                          -0.004   Prob(JB):                        0.144\n",
      "Kurtosis:                       2.636   Cond. No.                         37.2\n",
      "==============================================================================\n",
      "\n",
      "Notes:\n",
      "[1] Standard Errors assume that the covariance matrix of the errors is correctly specified.\n"
     ]
    }
   ],
   "source": [
    "# Resumo do modelo 1\n",
    "print(modelo_1.summary())"
   ]
  },
  {
   "cell_type": "code",
   "execution_count": 29,
   "metadata": {},
   "outputs": [
    {
     "name": "stdout",
     "output_type": "stream",
     "text": [
      "                            OLS Regression Results                            \n",
      "==============================================================================\n",
      "Dep. Variable:                  Preco   R-squared:                       0.446\n",
      "Model:                            OLS   Adj. R-squared:                  0.445\n",
      "Method:                 Least Squares   F-statistic:                     281.1\n",
      "Date:                qua, 16 jul 2025   Prob (F-statistic):           3.01e-90\n",
      "Time:                        21:53:23   Log-Likelihood:                -4385.0\n",
      "No. Observations:                 700   AIC:                             8776.\n",
      "Df Residuals:                     697   BIC:                             8790.\n",
      "Df Model:                           2                                         \n",
      "Covariance Type:            nonrobust                                         \n",
      "==============================================================================\n",
      "                 coef    std err          t      P>|t|      [0.025      0.975]\n",
      "------------------------------------------------------------------------------\n",
      "const         38.4104     16.170      2.375      0.018       6.662      70.158\n",
      "Estrelas      50.3893      3.446     14.621      0.000      43.623      57.156\n",
      "Capacidade    82.8828      4.326     19.159      0.000      74.389      91.376\n",
      "==============================================================================\n",
      "Omnibus:                       61.252   Durbin-Watson:                   1.986\n",
      "Prob(Omnibus):                  0.000   Jarque-Bera (JB):               75.329\n",
      "Skew:                          -0.766   Prob(JB):                     4.39e-17\n",
      "Kurtosis:                       3.485   Cond. No.                         14.7\n",
      "==============================================================================\n",
      "\n",
      "Notes:\n",
      "[1] Standard Errors assume that the covariance matrix of the errors is correctly specified.\n"
     ]
    }
   ],
   "source": [
    "# Resumo do modelo 2\n",
    "print(modelo_2.summary())"
   ]
  },
  {
   "cell_type": "code",
   "execution_count": 30,
   "metadata": {},
   "outputs": [
    {
     "name": "stdout",
     "output_type": "stream",
     "text": [
      "                            OLS Regression Results                            \n",
      "==============================================================================\n",
      "Dep. Variable:                  Preco   R-squared:                       0.754\n",
      "Model:                            OLS   Adj. R-squared:                  0.753\n",
      "Method:                 Least Squares   F-statistic:                     1066.\n",
      "Date:                qua, 16 jul 2025   Prob (F-statistic):          9.00e-213\n",
      "Time:                        21:53:43   Log-Likelihood:                -4101.7\n",
      "No. Observations:                 700   AIC:                             8209.\n",
      "Df Residuals:                     697   BIC:                             8223.\n",
      "Df Model:                           2                                         \n",
      "Covariance Type:            nonrobust                                         \n",
      "======================================================================================\n",
      "                         coef    std err          t      P>|t|      [0.025      0.975]\n",
      "--------------------------------------------------------------------------------------\n",
      "const                355.0018      9.033     39.300      0.000     337.266     372.737\n",
      "ProximidadeTurismo   -20.3403      0.554    -36.734      0.000     -21.427     -19.253\n",
      "Capacidade            79.3471      2.885     27.507      0.000      73.684      85.011\n",
      "==============================================================================\n",
      "Omnibus:                       39.162   Durbin-Watson:                   1.974\n",
      "Prob(Omnibus):                  0.000   Jarque-Bera (JB):               18.195\n",
      "Skew:                          -0.180   Prob(JB):                     0.000112\n",
      "Kurtosis:                       2.297   Cond. No.                         28.4\n",
      "==============================================================================\n",
      "\n",
      "Notes:\n",
      "[1] Standard Errors assume that the covariance matrix of the errors is correctly specified.\n"
     ]
    }
   ],
   "source": [
    "# Resumo do modelo 3\n",
    "print(modelo_3.summary())"
   ]
  },
  {
   "cell_type": "code",
   "execution_count": 31,
   "metadata": {},
   "outputs": [
    {
     "name": "stdout",
     "output_type": "stream",
     "text": [
      "R²\n",
      "Modelo_0: 0.4862217617831247\n",
      "Modelo_1: 0.9241850901112033\n",
      "Modelo_2: 0.44649104153622876\n",
      "Modelo_3: 0.7536532740101605\n"
     ]
    }
   ],
   "source": [
    "print(\"R²\")\n",
    "print('Modelo_0:', modelo_0.rsquared)\n",
    "print('Modelo_1:', modelo_1.rsquared)\n",
    "print('Modelo_2:', modelo_2.rsquared)\n",
    "print('Modelo_3:', modelo_3.rsquared)"
   ]
  },
  {
   "cell_type": "code",
   "execution_count": 32,
   "metadata": {},
   "outputs": [
    {
     "name": "stdout",
     "output_type": "stream",
     "text": [
      "2\n",
      "4\n",
      "3\n",
      "3\n"
     ]
    }
   ],
   "source": [
    "#Quantos parametros estão no modelo?\n",
    "print(len(modelo_0.params))\n",
    "print(len(modelo_1.params))\n",
    "print(len(modelo_2.params))\n",
    "print(len(modelo_3.params))"
   ]
  },
  {
   "cell_type": "code",
   "execution_count": 34,
   "metadata": {},
   "outputs": [
    {
     "data": {
      "application/vnd.microsoft.datawrangler.viewer.v0+json": {
       "columns": [
        {
         "name": "index",
         "rawType": "object",
         "type": "string"
        },
        {
         "name": "0",
         "rawType": "float64",
         "type": "float"
        }
       ],
       "ref": "46168862-0331-4002-9572-d524e99cb441",
       "rows": [
        [
         "const",
         "195.15757456626113"
        ],
        [
         "Estrelas",
         "50.50305542671027"
        ],
        [
         "ProximidadeTurismo",
         "-20.35664306823498"
        ],
        [
         "Capacidade",
         "81.52614403269627"
        ]
       ],
       "shape": {
        "columns": 1,
        "rows": 4
       }
      },
      "text/plain": [
       "const                 195.157575\n",
       "Estrelas               50.503055\n",
       "ProximidadeTurismo    -20.356643\n",
       "Capacidade             81.526144\n",
       "dtype: float64"
      ]
     },
     "execution_count": 34,
     "metadata": {},
     "output_type": "execute_result"
    }
   ],
   "source": [
    "modelo_1.params"
   ]
  },
  {
   "cell_type": "markdown",
   "metadata": {},
   "source": [
    "Conclusão: o modelo escolhido é o modelo 1. O Modelo 1 explica 92.4% da variância no Preco. A inclusão das variáveis Estrelas e Capacidade no Modelo 1 adiciona um poder explicativo muito significativo. O Modelo 1 é um modelo mais parcimonioso e com melhor ajuste geral, mesmo considerando sua maior complexidade. A combinação de Estrelas, ProximidadeTurismo e Capacidade no Modelo 1 fornece uma explicação muito mais robusta e completa para o preço, tornando-o a escolha superior para fins preditivos e de inferência."
   ]
  },
  {
   "cell_type": "markdown",
   "metadata": {},
   "source": []
  }
 ],
 "metadata": {
  "colab": {
   "authorship_tag": "ABX9TyNAcHMa4C+Q6J7M1CkYm1Tn",
   "provenance": [],
   "toc_visible": true
  },
  "kernelspec": {
   "display_name": "Python 3",
   "name": "python3"
  },
  "language_info": {
   "codemirror_mode": {
    "name": "ipython",
    "version": 3
   },
   "file_extension": ".py",
   "mimetype": "text/x-python",
   "name": "python",
   "nbconvert_exporter": "python",
   "pygments_lexer": "ipython3",
   "version": "3.13.3"
  }
 },
 "nbformat": 4,
 "nbformat_minor": 0
}
